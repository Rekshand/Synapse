{
 "cells": [
  {
   "cell_type": "code",
   "execution_count": null,
   "metadata": {},
   "outputs": [],
   "source": [
    "%%timeit\n",
    "[n*n for n in range(100)]"
   ]
  },
  {
   "cell_type": "code",
   "execution_count": 28,
   "metadata": {},
   "outputs": [
    {
     "data": {
      "text/plain": [
       "'1.18.1'"
      ]
     },
     "execution_count": 28,
     "metadata": {},
     "output_type": "execute_result"
    }
   ],
   "source": [
    "import numpy as np\n",
    "np.__version__"
   ]
  },
  {
   "cell_type": "markdown",
   "metadata": {},
   "source": [
    "# Basics of Numpy"
   ]
  },
  {
   "cell_type": "code",
   "execution_count": null,
   "metadata": {},
   "outputs": [],
   "source": [
    "import numpy as np\n",
    "a=np.array([1,2,3],dtype='int8') #initialise 1D arrray and set data type the value can be 16,8 but by default it is 32\n",
    "b=np.array([[1.0,2.0,3.0],[3.0,5.0,0.0]]) #initialise 2D array, same way multidimensional array can be generated\n",
    "print(a)\n",
    "print(b)"
   ]
  },
  {
   "cell_type": "code",
   "execution_count": null,
   "metadata": {},
   "outputs": [],
   "source": [
    "#get dimension of data\n",
    "print(a.ndim)\n",
    "print(b.ndim)"
   ]
  },
  {
   "cell_type": "code",
   "execution_count": null,
   "metadata": {},
   "outputs": [],
   "source": [
    "#get shape\n",
    "print(a.shape) \n",
    "print(b.shape) # 2 rows 3 column"
   ]
  },
  {
   "cell_type": "code",
   "execution_count": null,
   "metadata": {},
   "outputs": [],
   "source": [
    "#get data type\n",
    "print(a.dtype) # dtype=data type\n",
    "print(b.dtype)"
   ]
  },
  {
   "cell_type": "code",
   "execution_count": null,
   "metadata": {},
   "outputs": [],
   "source": [
    "#get size\n",
    "print(a.size) #a.itemsize will give no. of element in array\n",
    "print(b.size)\n",
    "print(a.itemsize)# int8 give 1 size, int16 give 2 size, int32 give 4 size\n",
    "print(b.itemsize)\n",
    "print(a.nbytes) # no. of bytes samee as size of a\n"
   ]
  },
  {
   "cell_type": "markdown",
   "metadata": {},
   "source": [
    "# accessing/changing specific elements row column etc.\n",
    "\n"
   ]
  },
  {
   "cell_type": "code",
   "execution_count": null,
   "metadata": {},
   "outputs": [],
   "source": [
    "a=np.array([[1,2,3,4,5,6,7],[8,9 ,10,11,12,13,14]])  \n",
    "a[0,:]  #array indexing starts from 0\n",
    "a[1,2]  # to access element from first row 2 column\n",
    "print(a[:,:])\n",
    "# to access alternate element\n",
    "a[1,1:-1:2]  # to print alternate element \n",
    "a[1,5]=20  # row 1 column 5 element changes to 20\n",
    "print(a)\n",
    "a[:,2]=[1,2]\n",
    "print(a)\n"
   ]
  },
  {
   "cell_type": "code",
   "execution_count": null,
   "metadata": {},
   "outputs": [],
   "source": [
    "b=np.array([[[1,2],[3,4]],[[5,6],[7,8]]])\n",
    "print(b)\n",
    "b[1,1,1]\n",
    "#replace\n",
    "b[1,0,0]=2\n",
    "print(b)"
   ]
  },
  {
   "cell_type": "markdown",
   "metadata": {},
   "source": [
    "## initializing different types of arrays"
   ]
  },
  {
   "cell_type": "code",
   "execution_count": null,
   "metadata": {},
   "outputs": [],
   "source": [
    "#matrix with all 0\n",
    "np.zeros((2,3),dtype='int16')\n",
    "#matrix with all 1\n",
    "np.ones((2,2))\n",
    "#matrix with any other no.\n",
    "np.full((2,2),5)\n",
    "#matrix with diagonal 1s and other value 0\n",
    "np.eye(4,4)\n",
    "\n"
   ]
  },
  {
   "cell_type": "markdown",
   "metadata": {},
   "source": [
    "### generate matrix with random no."
   ]
  },
  {
   "cell_type": "code",
   "execution_count": null,
   "metadata": {},
   "outputs": [],
   "source": [
    "# random decimal number\n",
    "np.random.rand(4,2) # generate random no. of size(4,2)\n",
    "# random integer value\n",
    "np.random.randint(6,size=(2,2)) #generate matrix of 2 row 2 col with random no. upto 5\n",
    "np.random.randint(-2,8, size=(3,3))"
   ]
  },
  {
   "cell_type": "code",
   "execution_count": null,
   "metadata": {},
   "outputs": [],
   "source": [
    "# identity matrix\n",
    "np.identity(5)"
   ]
  },
  {
   "cell_type": "code",
   "execution_count": null,
   "metadata": {},
   "outputs": [],
   "source": [
    "#repeat an array\n",
    "a=np.array([1,2,3]) #1D array\n",
    "b=np.repeat(a,3)\n",
    "print(b)\n",
    "c=np.array([[1,2,3]]) # 2D array\n",
    "d=np.repeat(c,3,axis=0)\n",
    "print(d)"
   ]
  },
  {
   "cell_type": "code",
   "execution_count": null,
   "metadata": {},
   "outputs": [],
   "source": [
    "a=np.ones((5,5))\n",
    "b=np.zeros((3,3))\n",
    "a[1:-1,1:-1]=b\n",
    "print(a)\n",
    "a[2,2]=9\n",
    "print(a)"
   ]
  },
  {
   "cell_type": "markdown",
   "metadata": {},
   "source": [
    "### mathematics of array"
   ]
  },
  {
   "cell_type": "code",
   "execution_count": null,
   "metadata": {},
   "outputs": [],
   "source": [
    "a=np.array([1,2,3,4],dtype='int16')\n",
    "b=a+2\n",
    "c=a-2\n",
    "d=a/2\n",
    "e=a*2\n",
    "f=a**2\n",
    "g=np.sin(a)\n",
    "h=np.cos(a)\n",
    "print(b,c,d,e,f,g,h)\n",
    "#similarly we can do this with two arrays"
   ]
  },
  {
   "cell_type": "markdown",
   "metadata": {},
   "source": [
    "### Linear Algebra"
   ]
  },
  {
   "cell_type": "code",
   "execution_count": null,
   "metadata": {},
   "outputs": [],
   "source": [
    "#matrix multiplication\n",
    "a=np.array([1,2,3,4])\n",
    "b=np.array([5,6,7,8])\n",
    "c=a*b\n",
    "d=np.matmul(a,b)\n",
    "e=np.ones((2,2))\n",
    "f=np.zeros((2,2))\n",
    "g=np.matmul(e,f)\n",
    "print(c)\n",
    "print(d)\n",
    "print(g)"
   ]
  },
  {
   "cell_type": "code",
   "execution_count": null,
   "metadata": {},
   "outputs": [],
   "source": [
    "#determinant of matrix\n",
    "a=np.identity(3)\n",
    "b=np.linalg.det(a)\n",
    "print(b)"
   ]
  },
  {
   "cell_type": "markdown",
   "metadata": {},
   "source": [
    "## Statistics"
   ]
  },
  {
   "cell_type": "code",
   "execution_count": null,
   "metadata": {},
   "outputs": [],
   "source": [
    "a=np.array([[1,2,3],[4,5,6]])\n",
    "np.sum(a) #give total sum of all the elements"
   ]
  },
  {
   "cell_type": "code",
   "execution_count": null,
   "metadata": {},
   "outputs": [],
   "source": [
    "np.min(a,axis=0)"
   ]
  },
  {
   "cell_type": "code",
   "execution_count": null,
   "metadata": {},
   "outputs": [],
   "source": [
    "np.max(a,axis=1) # max value of both rows"
   ]
  },
  {
   "cell_type": "code",
   "execution_count": null,
   "metadata": {},
   "outputs": [],
   "source": [
    "np.sum(a,axis=0) #axis=0 : sum of column (vertical sum)"
   ]
  },
  {
   "cell_type": "markdown",
   "metadata": {},
   "source": [
    "## reorganizing array"
   ]
  },
  {
   "cell_type": "code",
   "execution_count": null,
   "metadata": {},
   "outputs": [],
   "source": [
    "# reshaping the array size\n",
    "a=np.array([[1,2,3,4],[5,6,7,8]])\n",
    "print(a)\n",
    "\n",
    "b=a.reshape((4,2))\n",
    "print(b)"
   ]
  },
  {
   "cell_type": "code",
   "execution_count": null,
   "metadata": {},
   "outputs": [],
   "source": [
    "# vertical stacking and horizontally stacking\n",
    "a=np.array([1,2,3,4])\n",
    "b=np.array([5,6,7,8])\n",
    "c=np.vstack([a,b,a,b,a,b])\n",
    "print(c)\n",
    "\n",
    "d=np.hstack((a,b))\n",
    "print(d)"
   ]
  },
  {
   "cell_type": "markdown",
   "metadata": {},
   "source": [
    "## load data"
   ]
  },
  {
   "cell_type": "code",
   "execution_count": null,
   "metadata": {},
   "outputs": [],
   "source": [
    "filedata=np.genfromtxt('rak.txt',delimiter=',') #genfromtxt handles new line properly\n",
    "print(filedata)\n",
    "filedata.astype('int32')"
   ]
  },
  {
   "cell_type": "code",
   "execution_count": null,
   "metadata": {},
   "outputs": [],
   "source": [
    "## boolean masking and advanced indexing\n",
    " # gives true or false for each value\n",
    "filedata[filedata>10]\n"
   ]
  },
  {
   "cell_type": "code",
   "execution_count": null,
   "metadata": {},
   "outputs": [],
   "source": [
    "np.any(filedata >5, axis=0)"
   ]
  },
  {
   "cell_type": "code",
   "execution_count": null,
   "metadata": {},
   "outputs": [],
   "source": [
    "((filedata>5)&(filedata<10))"
   ]
  },
  {
   "cell_type": "markdown",
   "metadata": {},
   "source": [
    "## Insert and flatten"
   ]
  },
  {
   "cell_type": "code",
   "execution_count": null,
   "metadata": {},
   "outputs": [],
   "source": [
    "a=np.array([[1,2],[3,4],[5,6]])\n",
    "print(a)\n",
    "b=np.insert(a,0,1)  # syntax of insert= np.insert(array,obj,value,axis), where array= variable in which array is stored\n",
    "                                                                               #obj= place in array where you want to insert, value=value you want to insert\n",
    "print(b)\n",
    "c=b.flatten()   # flatten function\n",
    "print(c)"
   ]
  },
  {
   "cell_type": "code",
   "execution_count": 25,
   "metadata": {},
   "outputs": [
    {
     "name": "stdout",
     "output_type": "stream",
     "text": [
      "[[ 1  2  3  4  5]\n",
      " [ 6  7  8  9 10]]\n",
      "[[ 1  1  2  3  4  5]\n",
      " [ 1  6  7  8  9 10]]\n"
     ]
    }
   ],
   "source": [
    "import numpy as np\n",
    "X=np.array([[1,2,3,4,5],[6,7,8,9,10]],dtype='int8')\n",
    "print(X)\n",
    "ones=np.ones(len(X))\n",
    "b=np.insert(X,0,ones,axis=1)\n",
    "print(b)\n"
   ]
  },
  {
   "cell_type": "code",
   "execution_count": 32,
   "metadata": {},
   "outputs": [
    {
     "name": "stdout",
     "output_type": "stream",
     "text": [
      "[[1 2 3 4]\n",
      " [5 6 7 8]]\n",
      "[[1 5]\n",
      " [2 6]\n",
      " [3 7]\n",
      " [4 8]]\n"
     ]
    }
   ],
   "source": [
    "%%Transpose of given matrix\n",
    "a=np.array([[1,2,3,4],[5,6,7,8]])\n",
    "print(a)\n",
    "b=a.T  %T stands for transpose\n",
    "print(b)"
   ]
  }
 ],
 "metadata": {
  "kernelspec": {
   "display_name": "Python 3",
   "language": "python",
   "name": "python3"
  },
  "language_info": {
   "codemirror_mode": {
    "name": "ipython",
    "version": 3
   },
   "file_extension": ".py",
   "mimetype": "text/x-python",
   "name": "python",
   "nbconvert_exporter": "python",
   "pygments_lexer": "ipython3",
   "version": "3.7.6"
  }
 },
 "nbformat": 4,
 "nbformat_minor": 4
}
