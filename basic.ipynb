{
 "cells": [
  {
   "cell_type": "code",
   "execution_count": 13,
   "metadata": {},
   "outputs": [
    {
     "name": "stdout",
     "output_type": "stream",
     "text": [
      "2002,2009,2016,2023,2037,2044,2051,2058,2072,2079,2086,2093,2107,2114,2121,2128,2142,2149,2156,2163,2177,2184,2191,2198,2212,2219,2226,2233,2247,2254,2261,2268,2282,2289,2296,2303,2317,2324,2331,2338,2352,2359,2366,2373,2387,2394,2401,2408,2422,2429,2436,2443,2457,2464,2471,2478,2492,2499,2506,2513,2527,2534,2541,2548,2562,2569,2576,2583,2597,2604,2611,2618,2632,2639,2646,2653,2667,2674,2681,2688,2702,2709,2716,2723,2737,2744,2751,2758,2772,2779,2786,2793,2807,2814,2821,2828,2842,2849,2856,2863,2877,2884,2891,2898,2912,2919,2926,2933,2947,2954,2961,2968,2982,2989,2996,3003,3017,3024,3031,3038,3052,3059,3066,3073,3087,3094,3101,3108,3122,3129,3136,3143,3157,3164,3171,3178,3192,3199\n"
     ]
    }
   ],
   "source": [
    "##Divide by 7 but not by 5\n",
    "l=[]\n",
    "for i in range(2000,3201):\n",
    "    if (i%7==0) and (i%5!=0):\n",
    "        l.append(str(i))\n",
    "print(','.join(l))"
   ]
  },
  {
   "cell_type": "code",
   "execution_count": 19,
   "metadata": {},
   "outputs": [
    {
     "name": "stdout",
     "output_type": "stream",
     "text": [
      "8\n",
      "40320\n"
     ]
    }
   ],
   "source": [
    "### factorial of given number\n",
    "a=int(input())\n",
    "fact=1\n",
    "for i in range(1,a+1):\n",
    "    fact*=i\n",
    "    \n",
    "print(fact)\n",
    "    "
   ]
  },
  {
   "cell_type": "code",
   "execution_count": 21,
   "metadata": {},
   "outputs": [
    {
     "name": "stdout",
     "output_type": "stream",
     "text": [
      "8\n",
      "{1: 1, 2: 4, 3: 9, 4: 16, 5: 25, 6: 36, 7: 49, 8: 64}\n"
     ]
    }
   ],
   "source": [
    "##dictionary to show square of given number\n",
    "a=int(input())\n",
    "b=dict((i,i*i)for i in range(1,a+1))  ## dict(key,value)\n",
    "print(b)\n",
    "    \n"
   ]
  },
  {
   "cell_type": "code",
   "execution_count": 31,
   "metadata": {},
   "outputs": [
    {
     "name": "stdout",
     "output_type": "stream",
     "text": [
      "11,12,34,54,65\n",
      "['11', '12', '34', '54', '65']\n",
      "('11', '12', '34', '54', '65')\n"
     ]
    }
   ],
   "source": [
    "##generate list and tuple\n",
    "a=input()\n",
    "b=a.split(\",\")\n",
    "c=tuple(b)\n",
    "print(b) #list\n",
    "print(c) #tuple"
   ]
  },
  {
   "cell_type": "code",
   "execution_count": 38,
   "metadata": {},
   "outputs": [
    {
     "name": "stdout",
     "output_type": "stream",
     "text": [
      "rakshand\n",
      "RAKSHAND\n"
     ]
    }
   ],
   "source": [
    "##class\n",
    "class ini:\n",
    "    def __init__(self):\n",
    "        self.m=''                 ##.m to declare datatype\n",
    "    def get_string(self):\n",
    "        self.m=input()\n",
    "    def printstring(self):\n",
    "        print(self.m.upper())\n",
    "strobj=ini()       ##to define object for class             ## brackets\n",
    "strobj.get_string()\n",
    "strobj.printstring()\n",
    "        "
   ]
  },
  {
   "cell_type": "code",
   "execution_count": 1,
   "metadata": {},
   "outputs": [
    {
     "name": "stdout",
     "output_type": "stream",
     "text": [
      "100,150,180\n",
      "18,22,24\n"
     ]
    }
   ],
   "source": [
    "## using square root calculate a equation\n",
    "import math\n",
    "a=[]\n",
    "c=50\n",
    "h=30\n",
    "items=[float(d) for d in input().split(',')]\n",
    "for item in items:  ##using in operator\n",
    "    a.append(str(int(round(math.sqrt((2*c*item)/h))))) ## conversion of data type into int and den str\n",
    "print(','.join(a))\n",
    "    "
   ]
  },
  {
   "cell_type": "code",
   "execution_count": 8,
   "metadata": {},
   "outputs": [
    {
     "name": "stdout",
     "output_type": "stream",
     "text": [
      "3\n",
      "3\n",
      "[0, 0, 0, 0, 1, 2, 0, 2, 4]\n"
     ]
    }
   ],
   "source": [
    "## 2D matrix\n",
    "r,c=input(),input()\n",
    "b=[]\n",
    "for i in range(int(r)):\n",
    "    for j in range(int(c)):\n",
    "        a=i*j\n",
    "        b.append(a)\n",
    "print(b)"
   ]
  },
  {
   "cell_type": "code",
   "execution_count": 10,
   "metadata": {},
   "outputs": [
    {
     "name": "stdout",
     "output_type": "stream",
     "text": [
      "hi,hello,fine\n",
      "fine hello hi\n"
     ]
    }
   ],
   "source": [
    "## sorting word alphabetically\n",
    "a=[x for x in input().split(',')]\n",
    "a.sort()\n",
    "print(' '.join(a))"
   ]
  },
  {
   "cell_type": "code",
   "execution_count": 5,
   "metadata": {},
   "outputs": [
    {
     "name": "stdout",
     "output_type": "stream",
     "text": [
      "hello world\n",
      "my name is khan\n",
      "\n",
      "HELLO WORLD\n",
      "MY NAME IS KHAN\n"
     ]
    }
   ],
   "source": [
    "## capitalise the likne\n",
    "a=[]\n",
    "while True:\n",
    "    s=input()\n",
    "    if s:\n",
    "        a.append(s.upper())\n",
    "    else:\n",
    "        break\n",
    "for b in a:\n",
    "    print(b)"
   ]
  },
  {
   "cell_type": "code",
   "execution_count": 25,
   "metadata": {},
   "outputs": [
    {
     "name": "stdout",
     "output_type": "stream",
     "text": [
      "hei hei again hello world world\n",
      "again hei hello world\n"
     ]
    }
   ],
   "source": [
    "## removing duplicates\n",
    "s=input()\n",
    "a=[i for i in s.split(\" \")]\n",
    "print(' '.join(sorted(set(a)))) ## set removes duplicate"
   ]
  },
  {
   "cell_type": "code",
   "execution_count": 33,
   "metadata": {},
   "outputs": [
    {
     "name": "stdout",
     "output_type": "stream",
     "text": [
      "0100,0011,1001,1010\n",
      "1010\n"
     ]
    }
   ],
   "source": [
    "## binary number divisible by 5\n",
    "val=[]\n",
    "item=[x for x in input().split(',')]\n",
    "for p in item:\n",
    "    inpt=int(p,2)  ## int(string,base)convert given base to decimal\n",
    "    if not inpt%5:\n",
    "        val.append(p)\n",
    "print(','.join(val))\n",
    "    "
   ]
  },
  {
   "cell_type": "code",
   "execution_count": 37,
   "metadata": {},
   "outputs": [
    {
     "name": "stdout",
     "output_type": "stream",
     "text": [
      "2000,2002,2004,2006,2008,2020,2022,2024,2026,2028,2040,2042,2044,2046,2048,2060,2062,2064,2066,2068,2080,2082,2084,2086,2088,2200,2202,2204,2206,2208,2220,2222,2224,2226,2228,2240,2242,2244,2246,2248,2260,2262,2264,2266,2268,2280,2282,2284,2286,2288,2400,2402,2404,2406,2408,2420,2422,2424,2426,2428,2440,2442,2444,2446,2448,2460,2462,2464,2466,2468,2480,2482,2484,2486,2488,2600,2602,2604,2606,2608,2620,2622,2624,2626,2628,2640,2642,2644,2646,2648,2660,2662,2664,2666,2668,2680,2682,2684,2686,2688,2800,2802,2804,2806,2808,2820,2822,2824,2826,2828,2840,2842,2844,2846,2848,2860,2862,2864,2866,2868,2880,2882,2884,2886,2888\n"
     ]
    }
   ],
   "source": [
    "## each digit in a number is even or not\n",
    "val=[]\n",
    "for i in range(1000,3000):\n",
    "    s=str(i)\n",
    "    if (int(s[0])%2==0) and (int(s[1])%2==0) and (int(s[2])%2==0) and (int(s[3])%2==0):\n",
    "        val.append(s)\n",
    "print(','.join(val))"
   ]
  },
  {
   "cell_type": "code",
   "execution_count": 11,
   "metadata": {},
   "outputs": [
    {
     "name": "stdout",
     "output_type": "stream",
     "text": [
      "hello world 123\n",
      "digit 3\n",
      "letter 10\n"
     ]
    }
   ],
   "source": [
    "##COUNT no. of letters and digits\n",
    "a=input()\n",
    "b={\"digit\":0,\"letters\":0} ##dictionary\n",
    "for s in a:\n",
    "    if s.isdigit():\n",
    "        b[\"digit\"]+=1  ##changing the value\n",
    "    elif s.isalpha():\n",
    "        b[\"letters\"]+=1\n",
    "    else:\n",
    "        pass\n",
    "print(\"digit\",b[\"digit\"])\n",
    "print(\"letter\",b[\"letters\"])\n",
    "        \n",
    "    \n",
    "\n"
   ]
  },
  {
   "cell_type": "code",
   "execution_count": 12,
   "metadata": {},
   "outputs": [
    {
     "name": "stdout",
     "output_type": "stream",
     "text": [
      "Hellow World\n",
      "upper 2\n",
      "lower 9\n"
     ]
    }
   ],
   "source": [
    "##isupper and islower\n",
    "a=input()\n",
    "b={\"upper\":0,\"lower\":0} \n",
    "for c in a:\n",
    "    if c.isupper():\n",
    "        b[\"upper\"]+=1\n",
    "    elif c.islower():\n",
    "        b[\"lower\"]+=1\n",
    "    else:\n",
    "        pass\n",
    "print(\"upper\",b[\"upper\"])\n",
    "print(\"lower\",b[\"lower\"])"
   ]
  },
  {
   "cell_type": "code",
   "execution_count": 21,
   "metadata": {},
   "outputs": [
    {
     "name": "stdout",
     "output_type": "stream",
     "text": [
      "9\n",
      "11106\n"
     ]
    }
   ],
   "source": [
    "## calculate the given equation\n",
    "a=int(input())\n",
    "n1=int(\"%s\"%a)\n",
    "n2=int(\"%s%s\"%(a,a))\n",
    "n3=int(\"%s%s%s\"%(a,a,a))\n",
    "n4=int(\"%s%s%s%s\"%(a,a,a,a))\n",
    "b=n1+n2+n3+n4   \n",
    "print(b)"
   ]
  },
  {
   "cell_type": "code",
   "execution_count": 29,
   "metadata": {},
   "outputs": [
    {
     "name": "stdout",
     "output_type": "stream",
     "text": [
      "1,2,3,4,5\n",
      "[1, 3, 5]\n"
     ]
    }
   ],
   "source": [
    "## odd number\n",
    "odd=[]\n",
    "a=[int(x) for x in input().split(\",\")]\n",
    "for o in a:\n",
    "    if o%2!=0:\n",
    "        odd.append(o)     \n",
    "print(odd)"
   ]
  },
  {
   "cell_type": "code",
   "execution_count": 11,
   "metadata": {},
   "outputs": [
    {
     "name": "stdout",
     "output_type": "stream",
     "text": [
      "5 2 7 9 1\n",
      "[1, 2, 5, 7, 9]\n",
      "16\n",
      "-1\n"
     ]
    }
   ],
   "source": [
    "\n",
    "a=[int(i) for i in input().split(' ')]\n",
    "b=sorted(a)\n",
    "c=len(b)\n",
    "d=len(b)-1\n",
    "sum=b[c-1]+b[d-1]\n",
    "dif=b[0]-b[1]\n",
    "print(sum)\n",
    "print(dif)"
   ]
  },
  {
   "cell_type": "code",
   "execution_count": 7,
   "metadata": {},
   "outputs": [
    {
     "name": "stdout",
     "output_type": "stream",
     "text": [
      "Collecting scikit-learn\n",
      "  Using cached scikit_learn-0.23.2-cp37-cp37m-win_amd64.whl (6.8 MB)\n",
      "Requirement already satisfied, skipping upgrade: threadpoolctl>=2.0.0 in c:\\programdata\\anaconda3\\lib\\site-packages (from scikit-learn) (2.1.0)\n",
      "Requirement already satisfied, skipping upgrade: scipy>=0.19.1 in c:\\programdata\\anaconda3\\lib\\site-packages (from scikit-learn) (1.4.1)\n",
      "Requirement already satisfied, skipping upgrade: numpy>=1.13.3 in c:\\programdata\\anaconda3\\lib\\site-packages (from scikit-learn) (1.18.1)\n",
      "Requirement already satisfied, skipping upgrade: joblib>=0.11 in c:\\programdata\\anaconda3\\lib\\site-packages (from scikit-learn) (0.14.1)\n",
      "Installing collected packages: scikit-learn\n",
      "  Attempting uninstall: scikit-learn\n",
      "    Found existing installation: scikit-learn 0.22.1\n",
      "    Uninstalling scikit-learn-0.22.1:\n",
      "Note: you may need to restart the kernel to use updated packages.\n"
     ]
    },
    {
     "name": "stderr",
     "output_type": "stream",
     "text": [
      "ERROR: Could not install packages due to an EnvironmentError: [WinError 5] Access is denied: 'c:\\\\programdata\\\\anaconda3\\\\lib\\\\site-packages\\\\scikit_learn-0.22.1.dist-info\\\\COPYING'\n",
      "Consider using the `--user` option or check the permissions.\n",
      "\n"
     ]
    }
   ],
   "source": [
    "pip install -U scikit-learn"
   ]
  },
  {
   "cell_type": "code",
   "execution_count": 11,
   "metadata": {},
   "outputs": [
    {
     "name": "stdout",
     "output_type": "stream",
     "text": [
      "[[ 0.  0.  5. ...  0.  0.  0.]\n",
      " [ 0.  0.  0. ... 10.  0.  0.]\n",
      " [ 0.  0.  0. ... 16.  9.  0.]\n",
      " ...\n",
      " [ 0.  0.  1. ...  6.  0.  0.]\n",
      " [ 0.  0.  2. ... 12.  0.  0.]\n",
      " [ 0.  0. 10. ... 12.  1.  0.]]\n"
     ]
    }
   ],
   "source": [
    "from sklearn import datasets\n",
    "iris=datasets.load_iris()\n",
    "digits=datasets.load_digits()\n",
    "print(digits.data)"
   ]
  }
 ],
 "metadata": {
  "kernelspec": {
   "display_name": "Python 3",
   "language": "python",
   "name": "python3"
  },
  "language_info": {
   "codemirror_mode": {
    "name": "ipython",
    "version": 3
   },
   "file_extension": ".py",
   "mimetype": "text/x-python",
   "name": "python",
   "nbconvert_exporter": "python",
   "pygments_lexer": "ipython3",
   "version": "3.7.6"
  }
 },
 "nbformat": 4,
 "nbformat_minor": 4
}
