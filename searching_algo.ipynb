{
 "cells": [
  {
   "cell_type": "code",
   "execution_count": null,
   "metadata": {},
   "outputs": [],
   "source": [
    "#linear search\n",
    "find=int(input())\n",
    "a=[1,2,3,4,5]\n",
    "for i in a:   ## use function to search each element one by one\n",
    "    if i==find:\n",
    "        print(\"match\")\n",
    "    else:\n",
    "        print(\"not matched\")"
   ]
  },
  {
   "cell_type": "code",
   "execution_count": 4,
   "metadata": {},
   "outputs": [
    {
     "name": "stdout",
     "output_type": "stream",
     "text": [
      "5\n",
      "5\n"
     ]
    }
   ],
   "source": [
    "#binary search\n",
    "def bsearch(b,a):\n",
    "    bottom=0\n",
    "    top=len(b)-1\n",
    "    index=-1\n",
    "    while top>=bottom and index==-1:\n",
    "        middle=int((top+bottom)/2)\n",
    "        if b[middle]==a:\n",
    "            index=middle\n",
    "        elif (b[middle]<a):\n",
    "            top=middle-1\n",
    "        else:\n",
    "            bottom=middle+1\n",
    "    return index+1\n",
    "    \n",
    "    \n",
    "    \n",
    "a=int(input())\n",
    "b=[1,2,3,4,5,6,7,8,9,10]\n",
    "print(bsearch(b,a))"
   ]
  },
  {
   "cell_type": "code",
   "execution_count": null,
   "metadata": {},
   "outputs": [],
   "source": [
    "##### practise code printing smallest and largest\n",
    "a=int(input())\n",
    "b=input().split(\" \")\n",
    "\n",
    "c=min(b)\n",
    "d=max(b)\n",
    "print(c,d ,end=\" \")\n"
   ]
  },
  {
   "cell_type": "code",
   "execution_count": 1,
   "metadata": {},
   "outputs": [
    {
     "name": "stdout",
     "output_type": "stream",
     "text": [
      "Triplet is 4 ,  10 ,  8\n"
     ]
    },
    {
     "data": {
      "text/plain": [
       "True"
      ]
     },
     "execution_count": 1,
     "metadata": {},
     "output_type": "execute_result"
    }
   ],
   "source": [
    "##finding triplet\n",
    "def find3Numbers(A, arr_size, sum): \n",
    "  \n",
    "    # Fix the first element as A[i] \n",
    "    for i in range( 0, arr_size-2): \n",
    "  \n",
    "        # Fix the second element as A[j] \n",
    "        for j in range(i + 1, arr_size-1):  \n",
    "              \n",
    "            # Now look for the third number \n",
    "            for k in range(j + 1, arr_size): \n",
    "                if A[i] + A[j] + A[k] == sum: \n",
    "                    print(\"Triplet is\", A[i], \n",
    "                          \", \", A[j], \", \", A[k]) \n",
    "                    return True\n",
    "      \n",
    "    # If we reach here, then no  \n",
    "    # triplet was found \n",
    "    return False\n",
    "  \n",
    "# Driver program to test above function  \n",
    "A = [1, 4, 45, 6, 10, 8] \n",
    "b=A.sort()\n",
    "arr_size = len(A) \n",
    "find3Numbers(A, arr_size, sum) "
   ]
  }
 ],
 "metadata": {
  "kernelspec": {
   "display_name": "Python 3",
   "language": "python",
   "name": "python3"
  },
  "language_info": {
   "codemirror_mode": {
    "name": "ipython",
    "version": 3
   },
   "file_extension": ".py",
   "mimetype": "text/x-python",
   "name": "python",
   "nbconvert_exporter": "python",
   "pygments_lexer": "ipython3",
   "version": "3.7.6"
  }
 },
 "nbformat": 4,
 "nbformat_minor": 4
}
