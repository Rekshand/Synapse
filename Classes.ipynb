{
 "cells": [
  {
   "cell_type": "code",
   "execution_count": 1,
   "metadata": {},
   "outputs": [
    {
     "name": "stdout",
     "output_type": "stream",
     "text": [
      "America\n",
      "America\n"
     ]
    }
   ],
   "source": [
    "##classes\n",
    "class American:\n",
    "    @staticmethod ##static method\n",
    "    def printnationality():\n",
    "        print(\"America\")\n",
    "american=American()\n",
    "american.printnationality()\n",
    "American.printnationality()"
   ]
  },
  {
   "cell_type": "code",
   "execution_count": 8,
   "metadata": {},
   "outputs": [
    {
     "name": "stdout",
     "output_type": "stream",
     "text": [
      "<__main__.Newyork object at 0x0000014ED858BD48>\n",
      "<__main__.American object at 0x0000014ED858BD88>\n"
     ]
    }
   ],
   "source": [
    "##subclass\n",
    "class American:\n",
    "    def printnationality():\n",
    "        print(\"American\")\n",
    "class Newyork(American):\n",
    "    def printcity():\n",
    "        print(\"From Newyork\")\n",
    "newyork=Newyork()\n",
    "america=American()\n",
    "print(newyork)\n",
    "print(america)\n"
   ]
  },
  {
   "cell_type": "code",
   "execution_count": 20,
   "metadata": {},
   "outputs": [
    {
     "name": "stdout",
     "output_type": "stream",
     "text": [
      "12.56\n"
     ]
    }
   ],
   "source": [
    "class circle:\n",
    "    def __init__(self,r):\n",
    "        self.radius=r\n",
    "    def area(self):\n",
    "        return self.r**2*3.14 \n",
    "obj=circle(2)\n",
    "print(obj.area())\n"
   ]
  },
  {
   "cell_type": "code",
   "execution_count": 22,
   "metadata": {},
   "outputs": [
    {
     "name": "stdout",
     "output_type": "stream",
     "text": [
      "3\n",
      "4\n",
      "12\n"
     ]
    }
   ],
   "source": [
    "class Rectangle:\n",
    "    def __init__(self,length,breadth):\n",
    "        self.length=length\n",
    "        self.breadth=breadth\n",
    "    def area(self):\n",
    "        return self.length*self.breadth\n",
    "a=int(input())\n",
    "b=int(input())\n",
    "rec=Rectangle(a,b)\n",
    "print(rec.area())\n"
   ]
  },
  {
   "cell_type": "code",
   "execution_count": 29,
   "metadata": {},
   "outputs": [
    {
     "name": "stdout",
     "output_type": "stream",
     "text": [
      "6\n",
      "36\n"
     ]
    }
   ],
   "source": [
    "#method ovveride\n",
    "class Shape:\n",
    "    def __init__(self):\n",
    "        pass\n",
    "    def area(self):\n",
    "        return 0\n",
    "class square(Shape):\n",
    "    def __init__(self,side):\n",
    "        Shape.__init__(self) ##To override a method in super class, we define a method with the same name in the super class.\n",
    "        self.side=side\n",
    "    def area(self):\n",
    "        return self.side*self.side\n",
    "a=int(input())\n",
    "squareobj=square(a)\n",
    "print(squareobj.area())"
   ]
  },
  {
   "cell_type": "code",
   "execution_count": 33,
   "metadata": {},
   "outputs": [
    {
     "ename": "RuntimeError",
     "evalue": "something wrong",
     "output_type": "error",
     "traceback": [
      "\u001b[1;31m---------------------------------------------------------------------------\u001b[0m",
      "\u001b[1;31mRuntimeError\u001b[0m                              Traceback (most recent call last)",
      "\u001b[1;32m<ipython-input-33-8b3b04ef305b>\u001b[0m in \u001b[0;36m<module>\u001b[1;34m\u001b[0m\n\u001b[0;32m      1\u001b[0m \u001b[1;31m#raise runtime error exception using raise()\u001b[0m\u001b[1;33m\u001b[0m\u001b[1;33m\u001b[0m\u001b[1;33m\u001b[0m\u001b[0m\n\u001b[1;32m----> 2\u001b[1;33m \u001b[1;32mraise\u001b[0m\u001b[1;33m(\u001b[0m\u001b[0mRuntimeError\u001b[0m\u001b[1;33m(\u001b[0m\u001b[1;34m'something wrong'\u001b[0m\u001b[1;33m)\u001b[0m\u001b[1;33m)\u001b[0m \u001b[1;31m## RuntimeErro is a keyword\u001b[0m\u001b[1;33m\u001b[0m\u001b[1;33m\u001b[0m\u001b[0m\n\u001b[0m",
      "\u001b[1;31mRuntimeError\u001b[0m: something wrong"
     ]
    }
   ],
   "source": [
    "#raise runtime error exception using raise()\n",
    "raise(RuntimeError('something wrong')) ## RuntimeErro is a keyword\n"
   ]
  },
  {
   "cell_type": "code",
   "execution_count": 35,
   "metadata": {},
   "outputs": [
    {
     "name": "stdout",
     "output_type": "stream",
     "text": [
      "division by zero erro\n",
      "in finally block for clean up\n"
     ]
    }
   ],
   "source": [
    "# try/except to catch exception\n",
    "def throw():\n",
    "    return 5/0\n",
    "try:\n",
    "    throw()\n",
    "except ZeroDivisionError:\n",
    "    print('division by zero erro')\n",
    "except (Exception,err):\n",
    "    print('Caught an exception')\n",
    "finally:\n",
    "    print('in finally block for clean up')\n",
    "    "
   ]
  },
  {
   "cell_type": "code",
   "execution_count": 7,
   "metadata": {},
   "outputs": [
    {
     "name": "stdout",
     "output_type": "stream",
     "text": [
      "gehlot@gmail.com\n",
      "gehlot\n"
     ]
    }
   ],
   "source": [
    "## take username from entered mail ie username@gmail.com\n",
    "import re\n",
    "emailAddress = input()\n",
    "pat2 = \"(\\w+)@((\\w+\\.)+(com))\"  #\\w to match the letters\n",
    "r2 = re.match(pat2,emailAddress)\n",
    "print (r2.group(1))\n"
   ]
  },
  {
   "cell_type": "code",
   "execution_count": 2,
   "metadata": {},
   "outputs": [],
   "source": [
    "class myError:\n",
    "    \"\"\"My own exception class\n",
    "    Attribute:\n",
    "    msg --explanation of the error\n",
    "    \"\"\"\n",
    "    \n",
    "    def __init__(self,msg):\n",
    "        self.msg=msg\n",
    "error=myError(\"something wrong\")"
   ]
  },
  {
   "cell_type": "code",
   "execution_count": 6,
   "metadata": {},
   "outputs": [
    {
     "name": "stdout",
     "output_type": "stream",
     "text": [
      "rak@gehlot.com\n",
      "gehlot\n"
     ]
    }
   ],
   "source": [
    "##prin company name from username@companyname.com\n",
    "import re\n",
    "email=input()\n",
    "pat=\"(\\w+)@(\\w+)\\.+(com)\"\n",
    "r2=re.match(pat,email)\n",
    "print(r2.group(2))"
   ]
  },
  {
   "cell_type": "code",
   "execution_count": 12,
   "metadata": {},
   "outputs": [
    {
     "name": "stdout",
     "output_type": "stream",
     "text": [
      "2 dog 3 cat\n",
      "['2', '3']\n"
     ]
    }
   ],
   "source": [
    "#print digits only\n",
    "a=[i for i in input().split(\" \")]\n",
    "c=[]\n",
    "for j in a:\n",
    "    if j.isdigit():\n",
    "        c.append(j)\n",
    "print(c)\n",
    "    \n",
    "    \n"
   ]
  },
  {
   "cell_type": "code",
   "execution_count": 14,
   "metadata": {},
   "outputs": [
    {
     "name": "stdout",
     "output_type": "stream",
     "text": [
      "2 dog 3 cat\n",
      "['2', '3']\n"
     ]
    }
   ],
   "source": [
    "#using re findall method\n",
    "import re\n",
    "a=input()\n",
    "print(re.findall(\"\\d\",a))#\\d is for integer"
   ]
  },
  {
   "cell_type": "code",
   "execution_count": 15,
   "metadata": {},
   "outputs": [
    {
     "name": "stdout",
     "output_type": "stream",
     "text": [
      "hello world\n"
     ]
    }
   ],
   "source": [
    "A Unicode string is a sequence of zero or more code points.\n",
    "a=u\"hello world\"\n",
    "print(a)"
   ]
  },
  {
   "cell_type": "code",
   "execution_count": 18,
   "metadata": {},
   "outputs": [
    {
     "name": "stdout",
     "output_type": "stream",
     "text": [
      "rakshnd\n"
     ]
    },
    {
     "ename": "NameError",
     "evalue": "name 'unicode' is not defined",
     "output_type": "error",
     "traceback": [
      "\u001b[1;31m---------------------------------------------------------------------------\u001b[0m",
      "\u001b[1;31mNameError\u001b[0m                                 Traceback (most recent call last)",
      "\u001b[1;32m<ipython-input-18-558417af2d8e>\u001b[0m in \u001b[0;36m<module>\u001b[1;34m\u001b[0m\n\u001b[0;32m      1\u001b[0m \u001b[1;31m# a program to read an ASCII string and to convert it to a unicode string encoded by utf-8. using unicdoe()method\u001b[0m\u001b[1;33m\u001b[0m\u001b[1;33m\u001b[0m\u001b[1;33m\u001b[0m\u001b[0m\n\u001b[0;32m      2\u001b[0m \u001b[0ma\u001b[0m\u001b[1;33m=\u001b[0m\u001b[0minput\u001b[0m\u001b[1;33m(\u001b[0m\u001b[1;33m)\u001b[0m\u001b[1;33m\u001b[0m\u001b[1;33m\u001b[0m\u001b[0m\n\u001b[1;32m----> 3\u001b[1;33m \u001b[0mu\u001b[0m\u001b[1;33m=\u001b[0m\u001b[0municode\u001b[0m\u001b[1;33m(\u001b[0m\u001b[0ma\u001b[0m\u001b[1;33m,\u001b[0m\u001b[1;34m\"utf-8\"\u001b[0m\u001b[1;33m)\u001b[0m\u001b[1;33m\u001b[0m\u001b[1;33m\u001b[0m\u001b[0m\n\u001b[0m\u001b[0;32m      4\u001b[0m \u001b[0mprint\u001b[0m\u001b[1;33m(\u001b[0m\u001b[0mu\u001b[0m\u001b[1;33m)\u001b[0m\u001b[1;33m\u001b[0m\u001b[1;33m\u001b[0m\u001b[0m\n",
      "\u001b[1;31mNameError\u001b[0m: name 'unicode' is not defined"
     ]
    }
   ],
   "source": [
    "# a program to read an ASCII string and to convert it to a unicode string encoded by utf-8. using unicdoe()method\n",
    "a=input()\n",
    "u=unicode(a,\"utf-8\")\n",
    "print(u)"
   ]
  },
  {
   "cell_type": "code",
   "execution_count": 23,
   "metadata": {},
   "outputs": [
    {
     "name": "stdout",
     "output_type": "stream",
     "text": [
      "5\n",
      "3.55\n"
     ]
    }
   ],
   "source": [
    "# program to compute 1/2+2/3+3/4+......n/n+1 for given n input\n",
    "n=int(input())\n",
    "a=[(i/(i+1))for i in range(1,n+1)]\n",
    "b=0\n",
    "for j in a:\n",
    "    b+=j\n",
    "print(float(round(b,2)))"
   ]
  },
  {
   "cell_type": "code",
   "execution_count": 25,
   "metadata": {},
   "outputs": [
    {
     "name": "stdout",
     "output_type": "stream",
     "text": [
      "5\n",
      "500\n"
     ]
    }
   ],
   "source": [
    "##recursive function\n",
    "# compute f(n)=f(n-1)+100\n",
    "def fn(n):\n",
    "    if n==0:\n",
    "        return 0\n",
    "    else:\n",
    "        return (fn(n-1)+100)\n",
    "a=int(input())\n",
    "print(fn(n))"
   ]
  },
  {
   "cell_type": "code",
   "execution_count": 29,
   "metadata": {},
   "outputs": [
    {
     "name": "stdout",
     "output_type": "stream",
     "text": [
      "7\n",
      "13\n"
     ]
    }
   ],
   "source": [
    "#fibonacci series using recursive function\n",
    "def fn(n):\n",
    "    if n==0:\n",
    "        return 0\n",
    "    elif n==1:\n",
    "        return 1\n",
    "    else:\n",
    "        return fn(n-1)+fn(n-2)\n",
    "n=int(input())\n",
    "print(fn(n))"
   ]
  },
  {
   "cell_type": "code",
   "execution_count": 35,
   "metadata": {},
   "outputs": [
    {
     "name": "stdout",
     "output_type": "stream",
     "text": [
      "7\n",
      "0,1,1,2,3,5,8,13\n"
     ]
    }
   ],
   "source": [
    "#printing each value of fibonacci series\n",
    "def fn(n):\n",
    "    if n==0:\n",
    "        return 0\n",
    "    elif n==1:\n",
    "        return 1\n",
    "    else:\n",
    "        return fn(n-1)+fn(n-2)\n",
    "n=int(input())\n",
    "val=[str(fn(x))for x in range(0,n+1)]\n",
    "print(','.join(val))"
   ]
  },
  {
   "cell_type": "code",
   "execution_count": 5,
   "metadata": {},
   "outputs": [
    {
     "name": "stdout",
     "output_type": "stream",
     "text": [
      "10\n",
      "0,2,4,6,8,10\n"
     ]
    }
   ],
   "source": [
    "#program using generator\n",
    "def generator(n):\n",
    "    i=0\n",
    "    while i<=n:\n",
    "        if  i%2==0:\n",
    "            yield i\n",
    "        i+=1\n",
    "n=int(input())\n",
    "c=[]\n",
    "for i in generator(n):\n",
    "    c.append(str(i))\n",
    "print(','.join(c))\n",
    "    "
   ]
  },
  {
   "cell_type": "code",
   "execution_count": 7,
   "metadata": {},
   "outputs": [
    {
     "name": "stdout",
     "output_type": "stream",
     "text": [
      "100\n",
      "0,35,70\n"
     ]
    }
   ],
   "source": [
    "#program to print no. divisible by 5 and 7\n",
    "def generator(n):\n",
    "        for i in range (n+1):\n",
    "            if i%5==0 and i%7==0:\n",
    "                yield i\n",
    "n=int(input())\n",
    "c=[]\n",
    "for i in generator(n):\n",
    "    c.append(str(i))\n",
    "print(','.join(c))\n",
    "    "
   ]
  },
  {
   "cell_type": "code",
   "execution_count": 9,
   "metadata": {},
   "outputs": [],
   "source": [
    "# assert statement\n",
    "li=[2,4,6,8]\n",
    "for i in li:\n",
    "    assert i%2==0"
   ]
  },
  {
   "cell_type": "code",
   "execution_count": 11,
   "metadata": {},
   "outputs": [
    {
     "name": "stdout",
     "output_type": "stream",
     "text": [
      "10/8\n",
      "1.25\n"
     ]
    }
   ],
   "source": [
    "#eval() function to evaluate given input and do mathematical operation on them\n",
    "exp=input()\n",
    "print(eval(exp))"
   ]
  },
  {
   "cell_type": "code",
   "execution_count": 33,
   "metadata": {},
   "outputs": [
    {
     "name": "stdout",
     "output_type": "stream",
     "text": [
      "6\n",
      "7\n"
     ]
    }
   ],
   "source": [
    "#binary search function\n",
    "def bi_search(li,n):\n",
    "    bottom=0\n",
    "    top=len(li)-1\n",
    "    index=-1\n",
    "    while top>=bottom and index==-1:\n",
    "        mid=int((top+bottom)/2)\n",
    "        if li[mid]==n:\n",
    "            index=mid\n",
    "        elif li[mid]>n:\n",
    "            top=mid-1\n",
    "        else:\n",
    "            bottom=mid+1\n",
    "    return index\n",
    "\n",
    "li=[2,4,5,6,7,9,11,14]\n",
    "print(bi_search(li,11))\n",
    "print(bi_search(li,14))"
   ]
  },
  {
   "cell_type": "code",
   "execution_count": 1,
   "metadata": {},
   "outputs": [
    {
     "name": "stdout",
     "output_type": "stream",
     "text": [
      "53.31374601059468\n"
     ]
    }
   ],
   "source": [
    "#random float between integer\n",
    "import random\n",
    "print(random.random()*100)  # random.random() generate random integer between 1 to 100"
   ]
  },
  {
   "cell_type": "code",
   "execution_count": 20,
   "metadata": {},
   "outputs": [
    {
     "name": "stdout",
     "output_type": "stream",
     "text": [
      "71.12146965384295\n"
     ]
    }
   ],
   "source": [
    "# random fn. to generate random value between 1 to 95\n",
    "import random\n",
    "print(random.random()*95)"
   ]
  },
  {
   "cell_type": "code",
   "execution_count": 38,
   "metadata": {},
   "outputs": [
    {
     "name": "stdout",
     "output_type": "stream",
     "text": [
      "2\n"
     ]
    }
   ],
   "source": [
    "# random even no. between 0 and 10\n",
    "import random\n",
    "print(random.choice([i for i in range(11)if i%2==0]))"
   ]
  },
  {
   "cell_type": "code",
   "execution_count": 49,
   "metadata": {},
   "outputs": [
    {
     "name": "stdout",
     "output_type": "stream",
     "text": [
      "0\n"
     ]
    }
   ],
   "source": [
    "#random no. divisble by 5 and 7 between 0 and 10\n",
    "import random\n",
    "print(random.choice([i for i in range(201)if i%5==0 and i%7==0]))"
   ]
  },
  {
   "cell_type": "code",
   "execution_count": 53,
   "metadata": {},
   "outputs": [
    {
     "name": "stdout",
     "output_type": "stream",
     "text": [
      "[24, 86, 37, 38, 82]\n"
     ]
    }
   ],
   "source": [
    "#generate 5 random no. in range of 100\n",
    "import random\n",
    "print(random.sample(range(100),5))"
   ]
  },
  {
   "cell_type": "code",
   "execution_count": 64,
   "metadata": {},
   "outputs": [
    {
     "name": "stdout",
     "output_type": "stream",
     "text": [
      "[198, 148, 174, 168, 156]\n"
     ]
    }
   ],
   "source": [
    "#generate 5 random even no. between range 100 to 200\n",
    "import random\n",
    "print(random.sample([i for i in range(100,200)if i%2==0],5))"
   ]
  },
  {
   "cell_type": "code",
   "execution_count": 65,
   "metadata": {},
   "outputs": [
    {
     "name": "stdout",
     "output_type": "stream",
     "text": [
      "[280, 175, 665, 980, 245]\n"
     ]
    }
   ],
   "source": [
    "#generate 5 no. divisible by 5 and 7 range between 1 and 1000\n",
    "import random\n",
    "print(random.sample([i for i in range(1,1000)if i%5==0 and i%7==0],5))"
   ]
  },
  {
   "cell_type": "code",
   "execution_count": 1,
   "metadata": {},
   "outputs": [
    {
     "name": "stdout",
     "output_type": "stream",
     "text": [
      "9\n"
     ]
    }
   ],
   "source": [
    "#random no. between 7 and 15 inclusively\n",
    "import random\n",
    "print(random.randrange(7,16))"
   ]
  },
  {
   "cell_type": "code",
   "execution_count": 4,
   "metadata": {},
   "outputs": [
    {
     "name": "stdout",
     "output_type": "stream",
     "text": [
      "b'x\\x9c\\xcbH\\xcd\\xc9\\xc9W(\\xcf/\\xcaIQ\\xcc \\x82\\r\\x00\\xbd[\\x11\\xf5'\n",
      "b'hello world!hello world!hello world!hello world!'\n"
     ]
    }
   ],
   "source": [
    "#zlib compress and decompress using zlib.compress() and zlib.decompress()\n",
    "import zlib\n",
    "s=b\"hello world!hello world!hello world!hello world!\"\n",
    "t=zlib.compress(s)\n",
    "print(t)\n",
    "print(zlib.decompress(t))"
   ]
  },
  {
   "cell_type": "code",
   "execution_count": 6,
   "metadata": {},
   "outputs": [
    {
     "name": "stdout",
     "output_type": "stream",
     "text": [
      "1.018823300000122\n"
     ]
    }
   ],
   "source": [
    "# measure running time using timeit\n",
    "from timeit import Timer\n",
    "t=Timer(\"for i in range(100):1+1\")\n",
    "print(t.timeit())\n",
    "\n"
   ]
  },
  {
   "cell_type": "code",
   "execution_count": 18,
   "metadata": {},
   "outputs": [
    {
     "name": "stdout",
     "output_type": "stream",
     "text": [
      "[3, 6, 5, 7, 4]\n"
     ]
    }
   ],
   "source": [
    "#shuffle() from random to shuffle list\n",
    "from random import shuffle \n",
    "li=[3,4,5,6,7]\n",
    "shuffle(li)\n",
    "print(li)\n",
    "\n"
   ]
  },
  {
   "cell_type": "code",
   "execution_count": 20,
   "metadata": {},
   "outputs": [
    {
     "name": "stdout",
     "output_type": "stream",
     "text": [
      "I play hockey.\n",
      "I play football.\n",
      "I love hockey.\n",
      "I love football.\n",
      "You play hockey.\n",
      "You play football.\n",
      "You love hockey.\n",
      "You love football.\n"
     ]
    }
   ],
   "source": [
    "# objects\n",
    "subject=[\"I\",\"You\"]\n",
    "verb=[\"play\",\"love\"]\n",
    "objects=[\"hockey\",\"football\"]\n",
    "for i in range(len(subject)):\n",
    "    for j in range(len(verb)):\n",
    "        for k in range(len(objects)):\n",
    "            sentence=(\"%s %s %s.\" %(subject[i],verb[j],objects[k]))\n",
    "            print(sentence)"
   ]
  },
  {
   "cell_type": "code",
   "execution_count": 21,
   "metadata": {},
   "outputs": [
    {
     "name": "stdout",
     "output_type": "stream",
     "text": [
      "[5, 77, 45]\n"
     ]
    }
   ],
   "source": [
    "# list to display even no.\n",
    "li=[5,6,77,45,22,12,24]\n",
    "lis=[x for x in li if x%2!=0 ]\n",
    "print(lis)"
   ]
  },
  {
   "cell_type": "code",
   "execution_count": 22,
   "metadata": {},
   "outputs": [
    {
     "name": "stdout",
     "output_type": "stream",
     "text": [
      "[12, 24, 88]\n"
     ]
    }
   ],
   "source": [
    "li=[12,24,35,70,88,120,155]\n",
    "lis=[x for x in li if x%5!=0 and x%7!=0 ]\n",
    "print(lis)"
   ]
  },
  {
   "cell_type": "code",
   "execution_count": 29,
   "metadata": {},
   "outputs": [
    {
     "name": "stdout",
     "output_type": "stream",
     "text": [
      "[24, 70, 120]\n"
     ]
    }
   ],
   "source": [
    "#remoing 0 2 4 and 6 element\n",
    "li=[12,24,35,70,88,120,155]\n",
    "print(li[1::2])"
   ]
  },
  {
   "cell_type": "code",
   "execution_count": 30,
   "metadata": {},
   "outputs": [
    {
     "name": "stdout",
     "output_type": "stream",
     "text": [
      "[24, 70, 120]\n"
     ]
    }
   ],
   "source": [
    "# same program using enumerate\n",
    "li = [12,24,35,70,88,120,155]\n",
    "li = [x for (i,x) in enumerate(li) if i%2!=0]\n",
    "print (li)"
   ]
  },
  {
   "cell_type": "code",
   "execution_count": 39,
   "metadata": {},
   "outputs": [
    {
     "name": "stdout",
     "output_type": "stream",
     "text": [
      "[[[0, 0, 0], [0, 0, 0], [0, 0, 0], [0, 0, 0], [0, 0, 0]], [[0, 0, 0], [0, 0, 0], [0, 0, 0], [0, 0, 0], [0, 0, 0]], [[0, 0, 0], [0, 0, 0], [0, 0, 0], [0, 0, 0], [0, 0, 0]], [[0, 0, 0], [0, 0, 0], [0, 0, 0], [0, 0, 0], [0, 0, 0]], [[0, 0, 0], [0, 0, 0], [0, 0, 0], [0, 0, 0], [0, 0, 0]], [[0, 0, 0], [0, 0, 0], [0, 0, 0], [0, 0, 0], [0, 0, 0]], [[0, 0, 0], [0, 0, 0], [0, 0, 0], [0, 0, 0], [0, 0, 0]], [[0, 0, 0], [0, 0, 0], [0, 0, 0], [0, 0, 0], [0, 0, 0]]]\n"
     ]
    }
   ],
   "source": [
    "# 3D array using list comprehension\n",
    "a=[[[0 for col in range(3)] for col in range(5)] for row in range(8)]\n",
    "print(a)\n"
   ]
  },
  {
   "cell_type": "code",
   "execution_count": 43,
   "metadata": {},
   "outputs": [
    {
     "name": "stdout",
     "output_type": "stream",
     "text": [
      "[24, 35, 70, 155]\n"
     ]
    }
   ],
   "source": [
    "#remove 0 4 and 5 position\n",
    "li=[12,24,35,70,88,120,155]\n",
    "li=[x for (i,x) in enumerate(li)if i not in(0,4,5)]\n",
    "print(li)"
   ]
  },
  {
   "cell_type": "code",
   "execution_count": 47,
   "metadata": {},
   "outputs": [
    {
     "name": "stdout",
     "output_type": "stream",
     "text": [
      "[12, 35, 88, 120, 155]\n"
     ]
    }
   ],
   "source": [
    "#remove 24\n",
    "li=[12,24,35,24,88,120,155]\n",
    "li=[x for x in li if x!=24]\n",
    "print(li)"
   ]
  },
  {
   "cell_type": "code",
   "execution_count": 56,
   "metadata": {},
   "outputs": [
    {
     "name": "stdout",
     "output_type": "stream",
     "text": [
      "[35]\n"
     ]
    }
   ],
   "source": [
    "#using intersection of set\n",
    "a=set([1,3,6,78,35,55]) #converting list a into set using set()\n",
    "b=set([12,24,35,24,88,120,155])\n",
    "a&=b\n",
    "print(list(a)) # to print it in the form of list"
   ]
  },
  {
   "cell_type": "code",
   "execution_count": 68,
   "metadata": {},
   "outputs": [
    {
     "name": "stdout",
     "output_type": "stream",
     "text": [
      "[12, 24, 35, 88, 120, 155]\n"
     ]
    }
   ],
   "source": [
    "# set remove duplicate and order will be same\n",
    "def Duplicate(li):\n",
    "    newli=[]\n",
    "    seen=set()\n",
    "    for item in li:\n",
    "        if item not in seen:\n",
    "            seen.add(item)\n",
    "            newli.append(item)\n",
    "    return newli\n",
    "li=[12,24,35,24,88,120,155,88,120,155]   \n",
    "print(Duplicate(li))"
   ]
  },
  {
   "cell_type": "code",
   "execution_count": 74,
   "metadata": {},
   "outputs": [
    {
     "name": "stdout",
     "output_type": "stream",
     "text": [
      "Male\n",
      "Female\n"
     ]
    }
   ],
   "source": [
    "#class and two children\n",
    "class person:\n",
    "    def getgender(self):\n",
    "        return \"Unknown\"\n",
    "class male(person):\n",
    "    def getgender(self):\n",
    "        return \"Male\"\n",
    "class female(person):\n",
    "    def getgender(self):\n",
    "        return \"Female\"\n",
    "mal=male()\n",
    "fem=female()\n",
    "print(mal.getgender())\n",
    "print(fem.getgender())"
   ]
  },
  {
   "cell_type": "code",
   "execution_count": 87,
   "metadata": {},
   "outputs": [
    {
     "name": "stdout",
     "output_type": "stream",
     "text": [
      "abcdefgabc\n",
      "a,2\n",
      "b,2\n",
      "c,2\n",
      "d,1\n",
      "e,1\n",
      "f,1\n",
      "g,1\n"
     ]
    }
   ],
   "source": [
    "#no. of each character\n",
    "dic={} ## don't use keyword dict it will change the output by 1 like a,3 b,2....\n",
    "word=input()\n",
    "for word in word:\n",
    "    dic[word]=dic.get(word,0)+1 #Use dict.get() method to lookup a key with default value.\n",
    "print('\\n'.join([\"%s,%s\"%(k,v)for k,v in dic.items()]))\n",
    "    "
   ]
  },
  {
   "cell_type": "code",
   "execution_count": 89,
   "metadata": {},
   "outputs": [
    {
     "name": "stdout",
     "output_type": "stream",
     "text": [
      "rise to vote sir\n",
      "ris etov ot esir\n"
     ]
    }
   ],
   "source": [
    "#reverse \n",
    "a=input()\n",
    "b=a[::-1]\n",
    "print(b)"
   ]
  },
  {
   "cell_type": "code",
   "execution_count": 90,
   "metadata": {},
   "outputs": [
    {
     "name": "stdout",
     "output_type": "stream",
     "text": [
      "[(1, 2, 3), (1, 3, 2), (2, 1, 3), (2, 3, 1), (3, 1, 2), (3, 2, 1)]\n"
     ]
    }
   ],
   "source": [
    "#permutation\n",
    "import itertools\n",
    "print(list(itertools.permutations([1,2,3])))"
   ]
  },
  {
   "cell_type": "code",
   "execution_count": 18,
   "metadata": {},
   "outputs": [
    {
     "name": "stdout",
     "output_type": "stream",
     "text": [
      "(12, 23)\n"
     ]
    }
   ],
   "source": [
    "#rabbit and chicken legs=94 and heads=35 find no. of rabbit and chicken\n",
    "def solve(head,legs):\n",
    "    ns=\"No solution\"\n",
    "    for i in range(head+1):\n",
    "        j=head-i\n",
    "        if (4*i+2*j==legs):\n",
    "            return i,j\n",
    "    return ns\n",
    "    \n",
    "head=35\n",
    "legs=94\n",
    "sol=solve(head,legs)\n",
    "print(sol)\n",
    "        \n",
    "\n"
   ]
  },
  {
   "cell_type": "code",
   "execution_count": 5,
   "metadata": {},
   "outputs": [
    {
     "name": "stdout",
     "output_type": "stream",
     "text": [
      "5\n",
      "1\n",
      "3\n",
      "5\n",
      "4\n",
      "7\n"
     ]
    },
    {
     "ename": "TypeError",
     "evalue": "sequence item 0: expected str instance, list found",
     "output_type": "error",
     "traceback": [
      "\u001b[1;31m---------------------------------------------------------------------------\u001b[0m",
      "\u001b[1;31mTypeError\u001b[0m                                 Traceback (most recent call last)",
      "\u001b[1;32m<ipython-input-5-c4c24e8aa5ca>\u001b[0m in \u001b[0;36m<module>\u001b[1;34m\u001b[0m\n\u001b[0;32m      1\u001b[0m \u001b[0ma\u001b[0m\u001b[1;33m=\u001b[0m\u001b[0mint\u001b[0m\u001b[1;33m(\u001b[0m\u001b[0minput\u001b[0m\u001b[1;33m(\u001b[0m\u001b[1;33m)\u001b[0m\u001b[1;33m)\u001b[0m\u001b[1;33m\u001b[0m\u001b[1;33m\u001b[0m\u001b[0m\n\u001b[0;32m      2\u001b[0m \u001b[0mb\u001b[0m\u001b[1;33m=\u001b[0m\u001b[1;33m[\u001b[0m\u001b[0minput\u001b[0m\u001b[1;33m(\u001b[0m\u001b[1;33m)\u001b[0m\u001b[1;33m.\u001b[0m\u001b[0msplit\u001b[0m\u001b[1;33m(\u001b[0m\u001b[1;34m\" \"\u001b[0m\u001b[1;33m)\u001b[0m\u001b[1;32mfor\u001b[0m \u001b[0mi\u001b[0m \u001b[1;32min\u001b[0m \u001b[0mrange\u001b[0m\u001b[1;33m(\u001b[0m\u001b[0ma\u001b[0m\u001b[1;33m)\u001b[0m\u001b[1;33m]\u001b[0m\u001b[1;33m\u001b[0m\u001b[1;33m\u001b[0m\u001b[0m\n\u001b[1;32m----> 3\u001b[1;33m \u001b[0mprint\u001b[0m\u001b[1;33m(\u001b[0m\u001b[1;34m\" \"\u001b[0m\u001b[1;33m.\u001b[0m\u001b[0mjoin\u001b[0m\u001b[1;33m(\u001b[0m\u001b[0mb\u001b[0m\u001b[1;33m)\u001b[0m\u001b[1;33m)\u001b[0m\u001b[1;33m\u001b[0m\u001b[1;33m\u001b[0m\u001b[0m\n\u001b[0m",
      "\u001b[1;31mTypeError\u001b[0m: sequence item 0: expected str instance, list found"
     ]
    }
   ],
   "source": [
    "a=int(input())\n",
    "b=[input().split(\" \")for i in range(a)]\n",
    "print(\" \".join(b))"
   ]
  }
 ],
 "metadata": {
  "kernelspec": {
   "display_name": "Python 3",
   "language": "python",
   "name": "python3"
  },
  "language_info": {
   "codemirror_mode": {
    "name": "ipython",
    "version": 3
   },
   "file_extension": ".py",
   "mimetype": "text/x-python",
   "name": "python",
   "nbconvert_exporter": "python",
   "pygments_lexer": "ipython3",
   "version": "3.7.6"
  }
 },
 "nbformat": 4,
 "nbformat_minor": 4
}
