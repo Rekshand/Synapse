{
 "cells": [
  {
   "cell_type": "code",
   "execution_count": 6,
   "metadata": {},
   "outputs": [
    {
     "name": "stdout",
     "output_type": "stream",
     "text": [
      "sleeping for 1 second\n",
      "done sleeping\n",
      "sleeping for 1 second\n",
      "done sleeping\n",
      "2.0\n"
     ]
    }
   ],
   "source": [
    "import time\n",
    "start=time.perf_counter()\n",
    "\n",
    "def do_something():\n",
    "    print('sleeping for 1 second')\n",
    "    time.sleep(1)\n",
    "    print('done sleeping')\n",
    "    \n",
    "do_something()\n",
    "do_something()\n",
    "finish=time.perf_counter()\n",
    "print(round(finish-start,2))"
   ]
  },
  {
   "cell_type": "code",
   "execution_count": 1,
   "metadata": {},
   "outputs": [],
   "source": [
    "import multiprocessing"
   ]
  }
 ],
 "metadata": {
  "kernelspec": {
   "display_name": "Python 3",
   "language": "python",
   "name": "python3"
  },
  "language_info": {
   "codemirror_mode": {
    "name": "ipython",
    "version": 3
   },
   "file_extension": ".py",
   "mimetype": "text/x-python",
   "name": "python",
   "nbconvert_exporter": "python",
   "pygments_lexer": "ipython3",
   "version": "3.7.6"
  }
 },
 "nbformat": 4,
 "nbformat_minor": 4
}
